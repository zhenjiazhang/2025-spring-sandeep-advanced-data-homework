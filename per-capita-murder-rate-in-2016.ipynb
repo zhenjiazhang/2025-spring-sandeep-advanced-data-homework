{
 "cells": [
  {
   "cell_type": "code",
   "execution_count": 18,
   "id": "d764e89b-0552-48b1-9026-140aa051d239",
   "metadata": {},
   "outputs": [],
   "source": [
    "## assign values to variables\n",
    "NYC_murders = 334 \n",
    "NYC_population = 8_538_000\n",
    "\n",
    "Chicago_murders = 762 \n",
    "Chicago_population = 2_705_000\n",
    "\n",
    "San_Jose_murders = 47\n",
    "San_Jose_population = 1_025_000\n",
    "\n",
    "Los_Angeles_murders = 294 \n",
    "Los_Angeles_population = 3_976_000"
   ]
  },
  {
   "cell_type": "code",
   "execution_count": 20,
   "id": "d97062fc-a8ab-440f-8077-55cb595c7e66",
   "metadata": {},
   "outputs": [
    {
     "data": {
      "text/plain": [
       "3.911923167018037"
      ]
     },
     "execution_count": 20,
     "metadata": {},
     "output_type": "execute_result"
    }
   ],
   "source": [
    "## calculate rate for NYC\n",
    "(NYC_murders / NYC_population) * 100_000"
   ]
  },
  {
   "cell_type": "code",
   "execution_count": 52,
   "id": "a4189ccc-b30e-42dc-9e53-1450e1504b11",
   "metadata": {},
   "outputs": [],
   "source": [
    "NYC_result = 3.911923167018037"
   ]
  },
  {
   "cell_type": "code",
   "execution_count": 22,
   "id": "247f14ec-2e2c-4ec4-a0e6-09f5d8035625",
   "metadata": {},
   "outputs": [
    {
     "data": {
      "text/plain": [
       "28.170055452865068"
      ]
     },
     "execution_count": 22,
     "metadata": {},
     "output_type": "execute_result"
    }
   ],
   "source": [
    "## calculate rate for Chicago\n",
    "(Chicago_murders / Chicago_population) * 100_000"
   ]
  },
  {
   "cell_type": "code",
   "execution_count": 30,
   "id": "8e898fa7-03b0-4f10-a91e-43461f6ac96a",
   "metadata": {},
   "outputs": [],
   "source": [
    "Chicago_result = 28.170055452865068"
   ]
  },
  {
   "cell_type": "code",
   "execution_count": 24,
   "id": "eb72395e-4769-4061-b3d3-e834cb6e9824",
   "metadata": {},
   "outputs": [
    {
     "data": {
      "text/plain": [
       "4.585365853658536"
      ]
     },
     "execution_count": 24,
     "metadata": {},
     "output_type": "execute_result"
    }
   ],
   "source": [
    "## calculate rate for San Jose\n",
    "(San_Jose_murders / San_Jose_population) * 100_000"
   ]
  },
  {
   "cell_type": "code",
   "execution_count": 34,
   "id": "ea8969dc-b0e7-4299-9f9c-a371fcc6d9bc",
   "metadata": {},
   "outputs": [],
   "source": [
    "San_Jose_result = 4.585365853658536"
   ]
  },
  {
   "cell_type": "code",
   "execution_count": 50,
   "id": "9c327853-65cc-4c19-bdd9-0f1c3d511f8c",
   "metadata": {},
   "outputs": [
    {
     "name": "stdout",
     "output_type": "stream",
     "text": [
      "NYC has the lowest murder rate: 3.91\n"
     ]
    }
   ],
   "source": [
    "## write a sentence using f-strings that notes which city has the lowest murder rate.\n",
    "print(f\"NYC has the lowest murder rate: {NYC_result:,.2F}\")"
   ]
  },
  {
   "cell_type": "code",
   "execution_count": 58,
   "id": "17fc70fd-d7b7-47a3-93a1-a000ce98ccb5",
   "metadata": {},
   "outputs": [
    {
     "name": "stdout",
     "output_type": "stream",
     "text": [
      "NYC has the lowest murder rate: 3.91\n"
     ]
    }
   ],
   "source": [
    "print(f\"NYC has the lowest murder rate: {NYC_result:,.2F}\")"
   ]
  },
  {
   "cell_type": "code",
   "execution_count": 62,
   "id": "1ae57a1e-43fb-4194-ab8b-d5b5f6ef5c44",
   "metadata": {},
   "outputs": [
    {
     "name": "stdout",
     "output_type": "stream",
     "text": [
      "Chicago has the highest murder rate: 28.17\n"
     ]
    }
   ],
   "source": [
    "print(f\"Chicago has the highest murder rate: {Chicago_result:,.2F}\")"
   ]
  },
  {
   "cell_type": "code",
   "execution_count": 64,
   "id": "37e25d75-8176-4f30-8ce2-10e8d05c1d91",
   "metadata": {},
   "outputs": [
    {
     "name": "stdout",
     "output_type": "stream",
     "text": [
      "San_Jose's murder rate is: 4.59\n"
     ]
    }
   ],
   "source": [
    "print(f\"San_Jose's murder rate is: {San_Jose_result:,.2F}\")"
   ]
  },
  {
   "cell_type": "code",
   "execution_count": 110,
   "id": "75a99116-cb5c-4a5b-b194-df58f292c11f",
   "metadata": {},
   "outputs": [
    {
     "name": "stdout",
     "output_type": "stream",
     "text": [
      "NYC has murder rate of 3.91,per 100k\n",
      "while Chicago and San Jose have rates of 28.17 and 4.59 per 100k,respectively.\n"
     ]
    }
   ],
   "source": [
    "print(f\"NYC has murder rate of {NYC_result:,.2F},per 100k\") \n",
    "print(f\"while Chicago and San Jose have rates of {Chicago_result:,.2F} and {San_Jose_result:,.2F} per 100k,respectively.\")"
   ]
  },
  {
   "cell_type": "code",
   "execution_count": null,
   "id": "6e0b67ba-ff88-4b0a-a267-41a3e44c35fc",
   "metadata": {},
   "outputs": [],
   "source": []
  }
 ],
 "metadata": {
  "kernelspec": {
   "display_name": "Python [conda env:base] *",
   "language": "python",
   "name": "conda-base-py"
  },
  "language_info": {
   "codemirror_mode": {
    "name": "ipython",
    "version": 3
   },
   "file_extension": ".py",
   "mimetype": "text/x-python",
   "name": "python",
   "nbconvert_exporter": "python",
   "pygments_lexer": "ipython3",
   "version": "3.12.7"
  }
 },
 "nbformat": 4,
 "nbformat_minor": 5
}
